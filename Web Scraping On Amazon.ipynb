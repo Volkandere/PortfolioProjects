{
 "cells": [
  {
   "cell_type": "code",
   "execution_count": 1,
   "id": "f1e8983a-e958-4289-9a6e-a284d080ed12",
   "metadata": {},
   "outputs": [],
   "source": [
    "from bs4 import BeautifulSoup\n",
    "import requests\n",
    "import time \n",
    "import datetime\n",
    "import csv\n",
    "import pandas as pd"
   ]
  },
  {
   "cell_type": "code",
   "execution_count": 2,
   "id": "764f28f2-ac3a-4a09-b2ed-89580d7a351f",
   "metadata": {},
   "outputs": [],
   "source": [
    "# Website Connection\n",
    "url = 'https://www.amazon.com/Data-Analyst-Programmer-Accountant-T-Shirt/dp/B0C1TCPZG5/ref=sr_1_1?crid=2MAYY9WS5W0Y9&dib=eyJ2IjoiMSJ9.K-5Pp6gJVOBwEEHxOoHfEufpOlaEaXue6n5Ka2rYBUPZM9OTwbjbwORs76zepXOK-lX21hsDbqK-GpEFMO2M9FgIIecY3Bet5M_E4lGaDveTavRXpa6pvPnqRoNFdzJDYZVzN79IxnCLUuw1jY1GG_KAc-mUWPmmOPG4PIOgVWuvcIkt6dMkj-UUjBzrLr7uKOvw86f-5YVN6b73UazyBQo2c9u7ygZiUa7MZje2tJDfLv85EBQy3HjrhDiSTFRKMZBJ392RKCa9OMnbQ-dPo3_JxuZWY-2uHxEAPyRhDXk.zdOVOfzes_DKBVfiNGSLbE31dL5ipANHy7Y1pxcvHB8&dib_tag=se&keywords=got%2Bdata%2Bshirt&qid=1721996934&sprefix=got%2Bdata%2Bshir%2Caps%2C282&sr=8-1&customId=B0752XJYNL&customizationToken=MC_Assembly_1%23B0752XJYNL&th=1'\n",
    "headers = {\"User-Agent\": \"Mozilla/5.0 (Windows NT 10.0; Win64; x64) AppleWebKit/537.36 (KHTML, like Gecko) Chrome/126.0.0.0 Safari/537.36 Edg/126.0.0.0\", \"Accept-Encoding\":\"gzip, deflate\", \"Accept\":\"text/html,application/xhtml+xml,application/xml;q=0.9,*/*;q=0.8\", \"DNT\":\"1\",\"Connection\":\"close\", \"Upgrade-Insecure-Requests\":\"1\"}\n",
    "\n",
    "page = requests.get(url, headers = headers)\n",
    "soup1 = BeautifulSoup(page.content, \"html.parser\")\n",
    "soup2 = BeautifulSoup(soup1.prettify(), \"html.parser\")\n",
    "\n",
    "title = soup2.find(id='productTitle').get_text()\n",
    "price = soup2.find('span', class_ = 'a-offscreen').get_text()\n"
   ]
  },
  {
   "cell_type": "code",
   "execution_count": 3,
   "id": "7a2a3357-1466-4a42-b45d-44ccaba39ee4",
   "metadata": {},
   "outputs": [],
   "source": [
    "title = title.strip()\n",
    "price = price.strip()[1:]\n",
    "today = datetime.date.today()"
   ]
  },
  {
   "cell_type": "code",
   "execution_count": 4,
   "id": "a3cbc620-c6f1-438a-9aaa-afe09d163a4e",
   "metadata": {},
   "outputs": [
    {
     "name": "stdout",
     "output_type": "stream",
     "text": [
      "Got Data? Data Analyst Programmer Accountant T-Shirt\n",
      "13.38\n"
     ]
    }
   ],
   "source": [
    "print(title)\n",
    "print(price)"
   ]
  },
  {
   "cell_type": "code",
   "execution_count": 5,
   "id": "fe14972b-59f8-4d24-b1b3-3b477fb4de1e",
   "metadata": {},
   "outputs": [],
   "source": [
    "header = ['Title', 'Price', 'Date']\n",
    "data = [title, price, today]\n",
    "with open('AmazonWebScraperDataset.csv', 'w', newline = '', encoding = 'UTF8') as f:\n",
    "    writer = csv.writer(f)\n",
    "    writer.writerow(header)\n",
    "    writer.writerow(data)"
   ]
  },
  {
   "cell_type": "code",
   "execution_count": 6,
   "id": "3ff92b4c-e047-4100-a43c-443b136f428a",
   "metadata": {},
   "outputs": [],
   "source": [
    "#function to run in automation\n",
    "def check_price():\n",
    "    url = 'https://www.amazon.com/Data-Analyst-Programmer-Accountant-T-Shirt/dp/B0C1TCPZG5/ref=sr_1_1?crid=2MAYY9WS5W0Y9&dib=eyJ2IjoiMSJ9.K-5Pp6gJVOBwEEHxOoHfEufpOlaEaXue6n5Ka2rYBUPZM9OTwbjbwORs76zepXOK-lX21hsDbqK-GpEFMO2M9FgIIecY3Bet5M_E4lGaDveTavRXpa6pvPnqRoNFdzJDYZVzN79IxnCLUuw1jY1GG_KAc-mUWPmmOPG4PIOgVWuvcIkt6dMkj-UUjBzrLr7uKOvw86f-5YVN6b73UazyBQo2c9u7ygZiUa7MZje2tJDfLv85EBQy3HjrhDiSTFRKMZBJ392RKCa9OMnbQ-dPo3_JxuZWY-2uHxEAPyRhDXk.zdOVOfzes_DKBVfiNGSLbE31dL5ipANHy7Y1pxcvHB8&dib_tag=se&keywords=got%2Bdata%2Bshirt&qid=1721996934&sprefix=got%2Bdata%2Bshir%2Caps%2C282&sr=8-1&customId=B0752XJYNL&customizationToken=MC_Assembly_1%23B0752XJYNL&th=1'\n",
    "    headers = {\"User-Agent\": \"Mozilla/5.0 (Windows NT 10.0; Win64; x64) AppleWebKit/537.36 (KHTML, like Gecko) Chrome/126.0.0.0 Safari/537.36 Edg/126.0.0.0\", \"Accept-Encoding\":\"gzip, deflate\", \"Accept\":\"text/html,application/xhtml+xml,application/xml;q=0.9,*/*;q=0.8\", \"DNT\":\"1\",\"Connection\":\"close\", \"Upgrade-Insecure-Requests\":\"1\"}\n",
    "\n",
    "    page = requests.get(url, headers = headers)\n",
    "    soup1 = BeautifulSoup(page.content, \"html.parser\")\n",
    "    soup2 = BeautifulSoup(soup1.prettify(), \"html.parser\")\n",
    "\n",
    "    title = soup2.find(id='productTitle').get_text()\n",
    "    price = soup2.find('span', class_ = 'a-offscreen').get_text()\n",
    "\n",
    "    title = title.strip()\n",
    "    price = price.strip()[1:]\n",
    "    price = float(price)\n",
    "    today = datetime.date.today()\n",
    "\n",
    "    header = ['Title', 'Price', 'Date']\n",
    "    data = [title, price, today]\n",
    "    with open('AmazonWebScraperDataset.csv', 'a+', newline = '', encoding = 'UTF8') as f:\n",
    "        writer = csv.writer(f)\n",
    "        writer.writerow(data)"
   ]
  },
  {
   "cell_type": "code",
   "execution_count": 8,
   "id": "3924b11e-c1b9-4e0a-ad38-af35b6cffd15",
   "metadata": {},
   "outputs": [
    {
     "ename": "KeyboardInterrupt",
     "evalue": "",
     "output_type": "error",
     "traceback": [
      "\u001b[1;31m---------------------------------------------------------------------------\u001b[0m",
      "\u001b[1;31mKeyboardInterrupt\u001b[0m                         Traceback (most recent call last)",
      "Cell \u001b[1;32mIn[8], line 4\u001b[0m\n\u001b[0;32m      2\u001b[0m \u001b[38;5;28;01mwhile\u001b[39;00m(\u001b[38;5;28;01mTrue\u001b[39;00m):\n\u001b[0;32m      3\u001b[0m     check_price()\n\u001b[1;32m----> 4\u001b[0m     \u001b[43mtime\u001b[49m\u001b[38;5;241;43m.\u001b[39;49m\u001b[43msleep\u001b[49m\u001b[43m(\u001b[49m\u001b[38;5;241;43m5\u001b[39;49m\u001b[43m)\u001b[49m\n",
      "\u001b[1;31mKeyboardInterrupt\u001b[0m: "
     ]
    }
   ],
   "source": [
    "#Running the function to get the data every 5 seconds\n",
    "while(True):\n",
    "    check_price()\n",
    "    time.sleep(5)"
   ]
  },
  {
   "cell_type": "code",
   "execution_count": 9,
   "id": "8fe99ff5-1f2d-48c6-ae68-c9cf86570795",
   "metadata": {},
   "outputs": [
    {
     "data": {
      "text/html": [
       "<div>\n",
       "<style scoped>\n",
       "    .dataframe tbody tr th:only-of-type {\n",
       "        vertical-align: middle;\n",
       "    }\n",
       "\n",
       "    .dataframe tbody tr th {\n",
       "        vertical-align: top;\n",
       "    }\n",
       "\n",
       "    .dataframe thead th {\n",
       "        text-align: right;\n",
       "    }\n",
       "</style>\n",
       "<table border=\"1\" class=\"dataframe\">\n",
       "  <thead>\n",
       "    <tr style=\"text-align: right;\">\n",
       "      <th></th>\n",
       "      <th>Title</th>\n",
       "      <th>Price</th>\n",
       "      <th>Date</th>\n",
       "    </tr>\n",
       "  </thead>\n",
       "  <tbody>\n",
       "    <tr>\n",
       "      <th>0</th>\n",
       "      <td>Got Data? Data Analyst Programmer Accountant T...</td>\n",
       "      <td>13.38</td>\n",
       "      <td>2024-07-27</td>\n",
       "    </tr>\n",
       "    <tr>\n",
       "      <th>1</th>\n",
       "      <td>Got Data? Data Analyst Programmer Accountant T...</td>\n",
       "      <td>13.38</td>\n",
       "      <td>2024-07-27</td>\n",
       "    </tr>\n",
       "    <tr>\n",
       "      <th>2</th>\n",
       "      <td>Got Data? Data Analyst Programmer Accountant T...</td>\n",
       "      <td>13.38</td>\n",
       "      <td>2024-07-27</td>\n",
       "    </tr>\n",
       "  </tbody>\n",
       "</table>\n",
       "</div>"
      ],
      "text/plain": [
       "                                               Title  Price        Date\n",
       "0  Got Data? Data Analyst Programmer Accountant T...  13.38  2024-07-27\n",
       "1  Got Data? Data Analyst Programmer Accountant T...  13.38  2024-07-27\n",
       "2  Got Data? Data Analyst Programmer Accountant T...  13.38  2024-07-27"
      ]
     },
     "execution_count": 9,
     "metadata": {},
     "output_type": "execute_result"
    }
   ],
   "source": [
    "df = pd.read_csv(r\"C:\\Users\\volka\\Python Tutorial\\Port Projects\\AmazonWebScraperDataset.csv\")\n",
    "df"
   ]
  },
  {
   "cell_type": "code",
   "execution_count": 62,
   "id": "67483418",
   "metadata": {},
   "outputs": [],
   "source": []
  },
  {
   "cell_type": "code",
   "execution_count": null,
   "id": "12afaa31-bfae-4ff2-a0f8-7125caf590fb",
   "metadata": {},
   "outputs": [],
   "source": []
  }
 ],
 "metadata": {
  "kernelspec": {
   "display_name": "Python 3 (ipykernel)",
   "language": "python",
   "name": "python3"
  },
  "language_info": {
   "codemirror_mode": {
    "name": "ipython",
    "version": 3
   },
   "file_extension": ".py",
   "mimetype": "text/x-python",
   "name": "python",
   "nbconvert_exporter": "python",
   "pygments_lexer": "ipython3",
   "version": "3.11.9"
  }
 },
 "nbformat": 4,
 "nbformat_minor": 5
}
